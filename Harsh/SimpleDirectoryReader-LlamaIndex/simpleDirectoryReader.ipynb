{
 "cells": [
  {
   "cell_type": "code",
   "execution_count": 31,
   "metadata": {},
   "outputs": [],
   "source": [
    "import openai\n",
    "import os\n",
    "api_key_path = \"./../apiKey.txt\"\n",
    "\n",
    "with open(api_key_path, \"r\") as f:\n",
    "  api_key = ' '.join(f.readlines())\n",
    "  openai.api_key = api_key\n",
    "\n",
    "harshKey = openai.api_key\n",
    "os.environ['OPENAI_API_KEY'] = harshKey"
   ]
  },
  {
   "cell_type": "code",
   "execution_count": 4,
   "metadata": {},
   "outputs": [],
   "source": [
    "from llama_index.core import VectorStoreIndex, SimpleDirectoryReader\n",
    "\n",
    "document = SimpleDirectoryReader(input_files=['./pdf-data/Rich-Dad-Poor-Dad.pdf']).load_data();"
   ]
  },
  {
   "cell_type": "code",
   "execution_count": 8,
   "metadata": {},
   "outputs": [
    {
     "name": "stdout",
     "output_type": "stream",
     "text": [
      "<class 'list'>\n",
      "241\n",
      "<class 'llama_index.core.schema.Document'>\n",
      "Doc ID: 5cb9a112-e601-4cfe-9952-5871edcdab61\n",
      "Text: Robert T. Kiyosaki What The Rich Teach Their Kids About Money –\n",
      "That The Poor And Middle Cl ass Do No t! ™ Robert T. Kiyosaki $16.95\n",
      "US | $19.95 CAN www.richdad.com Rich Dad Poor Dad – The #1 Personal\n",
      "Finance Book of All Time! “Rich Dad Poor Dad is a starting point for\n",
      "anyone looking to gain control of their  financial futur e.”  – USA\n",
      "TODAY Ro...\n"
     ]
    }
   ],
   "source": [
    "print(type(document))\n",
    "print(len(document))\n",
    "print(type(document[0]))\n",
    "print(document[0])"
   ]
  },
  {
   "cell_type": "code",
   "execution_count": 6,
   "metadata": {},
   "outputs": [],
   "source": [
    "from llama_index.core import Document\n",
    "\n",
    "document1 = Document(text=\"\\n\\n\".join([doc.text for doc in document]))"
   ]
  },
  {
   "cell_type": "code",
   "execution_count": 57,
   "metadata": {},
   "outputs": [
    {
     "name": "stdout",
     "output_type": "stream",
     "text": [
      "<class 'llama_index.core.schema.Document'>\n",
      "Doc ID: 56c9eda6-dfcf-4ae3-9b53-08f2681b668f\n",
      "Text: Robert T. Kiyosaki What The Rich Teach Their Kids About Money –\n",
      "That The Poor And Middle Cl ass Do No t! ™ Robert T. Kiyosaki $16.95\n",
      "US | $19.95 CAN www.richdad.com Rich Dad Poor Dad – The #1 Personal\n",
      "Finance Book of All Time! “Rich Dad Poor Dad is a starting point for\n",
      "anyone looking to gain control of their  financial futur e.”  – USA\n",
      "TODAY Ro...\n"
     ]
    }
   ],
   "source": [
    "print(type(document1))\n",
    "print(document1)"
   ]
  },
  {
   "cell_type": "code",
   "execution_count": null,
   "metadata": {},
   "outputs": [],
   "source": [
    "from llama_index.embeddings.huggingface import HuggingFaceEmbedding\n",
    "\n",
    "embed_Model = HuggingFaceEmbedding(model_name=\"BAAI/bge-small-en-v1.5\")"
   ]
  },
  {
   "cell_type": "code",
   "execution_count": 58,
   "metadata": {},
   "outputs": [
    {
     "name": "stderr",
     "output_type": "stream",
     "text": [
      "/var/folders/8s/b7gbv73j00d2x1yd8z66hs240000gn/T/ipykernel_2638/3845573949.py:7: DeprecationWarning: Call to deprecated class method from_defaults. (ServiceContext is deprecated, please use `llama_index.settings.Settings` instead.) -- Deprecated since version 0.10.0.\n",
      "  service_context = ServiceContext.from_defaults(\n"
     ]
    }
   ],
   "source": [
    "from llama_index.core import ServiceContext\n",
    "from llama_index.llms.openai import OpenAI\n",
    "from llama_index.core import VectorStoreIndex\n",
    "\n",
    "llm = OpenAI(model=\"gpt-3.5-turbo\", temperature=0.1,)\n",
    "\n",
    "service_context = ServiceContext.from_defaults(\n",
    "    prompt_helper=\"only use the given input to answer the question\",\n",
    "    query_wrapper_prompt=\"Only use the information available in the given document to answer the questions.\", \n",
    "    llm=llm, embed_model=embed_Model\n",
    ")\n",
    "index = VectorStoreIndex.from_documents(document, service_context=service_context)"
   ]
  },
  {
   "cell_type": "code",
   "execution_count": 59,
   "metadata": {},
   "outputs": [],
   "source": [
    "query_engine = index.as_query_engine(api_key=harshKey)"
   ]
  },
  {
   "cell_type": "code",
   "execution_count": 60,
   "metadata": {},
   "outputs": [
    {
     "name": "stdout",
     "output_type": "stream",
     "text": [
      "The author of this book is Robert Kiyosaki.\n"
     ]
    }
   ],
   "source": [
    "response = query_engine.query(\"Who is the author of this book\")\n",
    "print(str(response))"
   ]
  },
  {
   "cell_type": "code",
   "execution_count": 35,
   "metadata": {},
   "outputs": [
    {
     "name": "stdout",
     "output_type": "stream",
     "text": [
      "Rich Dad Poor Dad\n"
     ]
    }
   ],
   "source": [
    "response = query_engine.query(\"Title of the book\")\n",
    "print(str(response))"
   ]
  },
  {
   "cell_type": "code",
   "execution_count": 40,
   "metadata": {},
   "outputs": [
    {
     "name": "stdout",
     "output_type": "stream",
     "text": [
      "This book emphasizes the importance of financial intelligence in navigating the CASHFLOW Quadrant to achieve financial freedom. It highlights the shift from being an employee or self-employed to becoming a business owner or investor. Through personal insights and examples, it encourages readers to master money and make it work for them.\n"
     ]
    }
   ],
   "source": [
    "response = query_engine.query(\"Please provide 50 words summary of this book\")\n",
    "print(str(response))"
   ]
  },
  {
   "cell_type": "code",
   "execution_count": 50,
   "metadata": {},
   "outputs": [
    {
     "name": "stdout",
     "output_type": "stream",
     "text": [
      "Jawaharlal Nehru was the first Prime Minister of India.\n"
     ]
    }
   ],
   "source": [
    "response = query_engine.query(\"who is the first prime minister of india\")\n",
    "print(str(response))"
   ]
  },
  {
   "cell_type": "code",
   "execution_count": 51,
   "metadata": {},
   "outputs": [
    {
     "name": "stdout",
     "output_type": "stream",
     "text": [
      "Jawaharlal Nehru is not mentioned in the book based on the provided context information.\n"
     ]
    }
   ],
   "source": [
    "response = query_engine.query(\"is Jawaharlal Nehru available in the book\")\n",
    "print(str(response))"
   ]
  },
  {
   "cell_type": "code",
   "execution_count": 52,
   "metadata": {},
   "outputs": [
    {
     "name": "stdout",
     "output_type": "stream",
     "text": [
      "India's Independence Day is celebrated on August 15th every year to commemorate the country's independence from British rule in 1947. It is a national holiday in India and is marked by various cultural programs, flag hoisting ceremonies, parades, and patriotic fervor across the country.\n"
     ]
    }
   ],
   "source": [
    "response = query_engine.query(\"India's independent day\")\n",
    "print(str(response))"
   ]
  },
  {
   "cell_type": "code",
   "execution_count": null,
   "metadata": {},
   "outputs": [],
   "source": []
  }
 ],
 "metadata": {
  "kernelspec": {
   "display_name": "venv",
   "language": "python",
   "name": "python3"
  },
  "language_info": {
   "codemirror_mode": {
    "name": "ipython",
    "version": 3
   },
   "file_extension": ".py",
   "mimetype": "text/x-python",
   "name": "python",
   "nbconvert_exporter": "python",
   "pygments_lexer": "ipython3",
   "version": "3.12.3"
  }
 },
 "nbformat": 4,
 "nbformat_minor": 2
}
