{
 "cells": [
  {
   "cell_type": "code",
   "execution_count": 4,
   "metadata": {},
   "outputs": [
    {
     "name": "stdout",
     "output_type": "stream",
     "text": [
      "processing file: CSV-data/chunk-data.csv\n",
      "processing file: CSV-data/relation__cityGroup.csv\n"
     ]
    }
   ],
   "source": [
    "import pandas as pd\n",
    "from pathlib import Path\n",
    "\n",
    "data_dir = Path(\"./CSV-data\")\n",
    "csv_files = sorted([f for f in data_dir.glob(\"*.csv\")])\n",
    "dfs = []\n",
    "for csv_file in csv_files:\n",
    "    print(f\"processing file: {csv_file}\")\n",
    "    try:\n",
    "        df = pd.read_csv(csv_file)\n",
    "        dfs.append(df)\n",
    "    except Exception as e:\n",
    "        print(f\"Error parsing {csv_file}: {str(e)}\")"
   ]
  },
  {
   "cell_type": "code",
   "execution_count": 5,
   "metadata": {},
   "outputs": [],
   "source": [
    "import openai\n",
    "import os\n",
    "api_key_path = \"./apiKey.txt\"\n",
    "\n",
    "with open(api_key_path, \"r\") as f:\n",
    "  api_key = ' '.join(f.readlines())\n",
    "  openai.api_key = api_key\n",
    "\n",
    "os.environ['OPENAI_API_KEY'] = openai.api_key"
   ]
  },
  {
   "cell_type": "code",
   "execution_count": 6,
   "metadata": {},
   "outputs": [
    {
     "name": "stdout",
     "output_type": "stream",
     "text": [
      "mkdir: LEI_TableInfo: File exists\n"
     ]
    }
   ],
   "source": [
    "tableinfo_dir = \"LEI_TableInfo\"\n",
    "!mkdir {tableinfo_dir}"
   ]
  },
  {
   "cell_type": "markdown",
   "metadata": {},
   "source": [
    "#### Summary of relationships between nodes with Relationship_StartNode_NodeID and Relationship_EndNode_NodeID, Relationship_RelationshipType, periods, qualifiers, quantifiers, and registration details. Relationship_EndNode_NodeID is the foreign key in the table Relationship_Information. LEI column is the primary key in the table Entity_Legal_Info which is the foreign key Relationship_EndNode_NodeID column in the table Relationship_Information. Relationship_RelationshipType column contains the information about the relation between the given company name. There are 4 type of relations in Relationship_RelationshipType column 'IS_DIRECTLY_CONSOLIDATED_BY', 'IS_ULTIMATELY_CONSOLIDATED_BY', 'IS_FUND-MANAGED_BY' and 'IS_FUND-MANAGER'. Please find the description of all the relations below: 'IS_ULTIMATELY_CONSOLIDATED_BY' - is the ultimate child of given company. 'IS_DIRECTLY_CONSOLIDATED_BY' - is the direct child of given company. 'IS_FUND-MANAGED_BY' - is a relation who is managing the fund of given company. 'IS_FUND-MANAGER' - is a relation who's funds are managed by given company.\""
   ]
  },
  {
   "cell_type": "code",
   "execution_count": 7,
   "metadata": {},
   "outputs": [],
   "source": [
    "from llama_index.core.program import LLMTextCompletionProgram\n",
    "from llama_index.core.bridge.pydantic import BaseModel, Field\n",
    "from llama_index.llms.openai import OpenAI\n",
    "\n",
    "\n",
    "class TableInfo(BaseModel):\n",
    "    \"\"\"Information regarding a structured table.\"\"\"\n",
    "\n",
    "    table_name: str = Field(\n",
    "        ..., description=\"table name (must be underscores and NO spaces)\"\n",
    "    )\n",
    "    table_summary: str = Field(\n",
    "        ..., description=\"short, concise summary/caption of the table\"\n",
    "    )\n",
    "\n",
    "\n",
    "prompt_str = \"\"\"\\\n",
    "Give me a summary of the table with the following JSON format.\n",
    "\n",
    "- The table name must be unique to the table and describe it while being concise. \n",
    "- Do NOT output a generic table name (e.g. table, my_table).\n",
    "\n",
    "Do NOT make the table name one of the following: {exclude_table_name_list}\n",
    "\n",
    "Table:\n",
    "{table_str}\n",
    "\n",
    "Summary: \"\"\"\n",
    "\n",
    "program = LLMTextCompletionProgram.from_defaults(\n",
    "    output_cls=TableInfo,\n",
    "    llm=OpenAI(model=\"gpt-3.5-turbo\"),\n",
    "    prompt_template_str=prompt_str,\n",
    ")"
   ]
  },
  {
   "cell_type": "code",
   "execution_count": 98,
   "metadata": {},
   "outputs": [],
   "source": [
    "import json\n",
    "\n",
    "\n",
    "def _get_tableinfo_with_index(idx: int) -> str:\n",
    "    results_gen = Path(tableinfo_dir).glob(f\"{idx}_*\")\n",
    "    results_list = list(results_gen)\n",
    "    print(results_list)\n",
    "    if len(results_list) == 0:\n",
    "        return None\n",
    "    elif len(results_list) == 1:\n",
    "        path = results_list[0]\n",
    "        return TableInfo.parse_file(path)\n",
    "    else:\n",
    "        raise ValueError(\n",
    "            f\"More than one file matching index: {list(results_gen)}\"\n",
    "        )"
   ]
  },
  {
   "cell_type": "code",
   "execution_count": 99,
   "metadata": {},
   "outputs": [
    {
     "name": "stdout",
     "output_type": "stream",
     "text": [
      "[PosixPath('LEI_TableInfo/0_Entity_Legal_Info.json')]\n",
      "table_name='Entity_Legal_Info' table_summary='Summary of legal information for various entities including legal names, addresses, registration details, entity status, creation dates, and conformity flags.'\n",
      "[PosixPath('LEI_TableInfo/1_Relationship_Information.json')]\n",
      "table_name='Relationship_Information' table_summary=\"Summary of relationships between nodes with Relationship_StartNode_NodeID and Relationship_EndNode_NodeID, Relationship_RelationshipType, periods, qualifiers, quantifiers, and registration details. Relationship_EndNode_NodeID is the foreign key in the table Relationship_Information. LEI column is the primary key in the table Entity_Legal_Info which is the foreign key Relationship_EndNode_NodeID column in the table Relationship_Information. Relationship_RelationshipType column contains the information about the relation between the given company name. There are 4 type of relations in Relationship_RelationshipType column 'IS_DIRECTLY_CONSOLIDATED_BY', 'IS_ULTIMATELY_CONSOLIDATED_BY', 'IS_FUND-MANAGED_BY' and 'IS_FUND-MANAGER'. Please find the description of all the relations below: 'IS_ULTIMATELY_CONSOLIDATED_BY' - is the ultimate child of given company. 'IS_DIRECTLY_CONSOLIDATED_BY' - is the direct child of given company. 'IS_FUND-MANAGED_BY' - is a relation who is managing the fund of given company. 'IS_FUND-MANAGER' - is a relation who's funds are managed by given company.\"\n"
     ]
    }
   ],
   "source": [
    "table_names = set()\n",
    "table_infos = []\n",
    "for idx, df in enumerate(dfs):\n",
    "    table_info = _get_tableinfo_with_index(idx)\n",
    "    print(table_info)\n",
    "    if table_info:\n",
    "        table_infos.append(table_info)\n",
    "    else:\n",
    "        while True:\n",
    "            df_str = df.head(10).to_csv()\n",
    "            table_info = program(\n",
    "                table_str=df_str,\n",
    "                exclude_table_name_list=str(list(table_names)),\n",
    "            )\n",
    "            table_name = table_info.table_name\n",
    "            print(f\"Processed table: {table_name}\")\n",
    "            if table_name not in table_names:\n",
    "                table_names.add(table_name)\n",
    "                break\n",
    "            else:\n",
    "                # try again\n",
    "                print(f\"Table name {table_name} already exists, trying again.\")\n",
    "                pass\n",
    "\n",
    "        out_file = f\"{tableinfo_dir}/{idx}_{table_name}.json\"\n",
    "        json.dump(table_info.dict(), open(out_file, \"w\"))\n",
    "        table_infos.append(table_info)"
   ]
  },
  {
   "cell_type": "code",
   "execution_count": 100,
   "metadata": {},
   "outputs": [
    {
     "data": {
      "text/plain": [
       "[TableInfo(table_name='Entity_Legal_Info', table_summary='Summary of legal information for various entities including legal names, addresses, registration details, entity status, creation dates, and conformity flags.'),\n",
       " TableInfo(table_name='Relationship_Information', table_summary=\"Summary of relationships between nodes with Relationship_StartNode_NodeID and Relationship_EndNode_NodeID, Relationship_RelationshipType, periods, qualifiers, quantifiers, and registration details. Relationship_EndNode_NodeID is the foreign key in the table Relationship_Information. LEI column is the primary key in the table Entity_Legal_Info which is the foreign key Relationship_EndNode_NodeID column in the table Relationship_Information. Relationship_RelationshipType column contains the information about the relation between the given company name. There are 4 type of relations in Relationship_RelationshipType column 'IS_DIRECTLY_CONSOLIDATED_BY', 'IS_ULTIMATELY_CONSOLIDATED_BY', 'IS_FUND-MANAGED_BY' and 'IS_FUND-MANAGER'. Please find the description of all the relations below: 'IS_ULTIMATELY_CONSOLIDATED_BY' - is the ultimate child of given company. 'IS_DIRECTLY_CONSOLIDATED_BY' - is the direct child of given company. 'IS_FUND-MANAGED_BY' - is a relation who is managing the fund of given company. 'IS_FUND-MANAGER' - is a relation who's funds are managed by given company.\")]"
      ]
     },
     "execution_count": 100,
     "metadata": {},
     "output_type": "execute_result"
    }
   ],
   "source": [
    "table_infos"
   ]
  },
  {
   "cell_type": "code",
   "execution_count": 11,
   "metadata": {},
   "outputs": [],
   "source": [
    "from sqlalchemy import (\n",
    "    create_engine,\n",
    "    MetaData,\n",
    "    Table,\n",
    "    Column,\n",
    "    String,\n",
    "    Integer,\n",
    ")\n",
    "import re"
   ]
  },
  {
   "cell_type": "code",
   "execution_count": 12,
   "metadata": {},
   "outputs": [],
   "source": [
    "# Function to create a sanitized column name\n",
    "def sanitize_column_name(col_name):\n",
    "    # Remove special characters and replace spaces with underscores\n",
    "    return re.sub(r\"\\W+\", \"_\", col_name)"
   ]
  },
  {
   "cell_type": "code",
   "execution_count": 101,
   "metadata": {},
   "outputs": [],
   "source": [
    "# Function to create a table from a DataFrame using SQLAlchemy\n",
    "def create_table_from_dataframe(\n",
    "    df: pd.DataFrame, table_name: str, engine, metadata_obj\n",
    "):\n",
    "    # Sanitize column names\n",
    "    sanitized_columns = {col: sanitize_column_name(col) for col in df.columns}\n",
    "    df = df.rename(columns=sanitized_columns)\n",
    "\n",
    "    # Dynamically create columns based on DataFrame columns and data types\n",
    "    columns = [\n",
    "        Column(col, String if dtype == \"object\" else Integer)\n",
    "        for col, dtype in zip(df.columns, df.dtypes)\n",
    "    ]\n",
    "\n",
    "    # Create a table with the defined columns\n",
    "    table = Table(table_name, metadata_obj, *columns)\n",
    "\n",
    "    # Create the table in the database\n",
    "    metadata_obj.create_all(engine)\n",
    "\n",
    "    # Insert data from DataFrame into the table\n",
    "    with engine.connect() as conn:\n",
    "        for _, row in df.iterrows():\n",
    "            insert_stmt = table.insert().values(**row.to_dict())\n",
    "            conn.execute(insert_stmt)\n",
    "        conn.commit()"
   ]
  },
  {
   "cell_type": "code",
   "execution_count": 14,
   "metadata": {},
   "outputs": [
    {
     "name": "stdout",
     "output_type": "stream",
     "text": [
      "[PosixPath('LEI_TableInfo/0_Entity_Legal_Info.json')]\n",
      "Creating table: Entity_Legal_Info\n",
      "[PosixPath('LEI_TableInfo/1_Relationship_Information.json')]\n",
      "Creating table: Relationship_Information\n"
     ]
    }
   ],
   "source": [
    "engine = create_engine(\"sqlite:///:memory:\")\n",
    "metadata_obj = MetaData()\n",
    "for idx, df in enumerate(dfs):\n",
    "    tableinfo = _get_tableinfo_with_index(idx)\n",
    "    print(f\"Creating table: {tableinfo.table_name}\")\n",
    "    create_table_from_dataframe(df, tableinfo.table_name, engine, metadata_obj)"
   ]
  },
  {
   "cell_type": "code",
   "execution_count": 102,
   "metadata": {},
   "outputs": [
    {
     "name": "stdout",
     "output_type": "stream",
     "text": [
      "[PosixPath('LEI_TableInfo/0_Entity_Legal_Info.json')]\n",
      "[PosixPath('LEI_TableInfo/1_Relationship_Information.json')]\n"
     ]
    }
   ],
   "source": [
    "from llama_index.core.objects import (\n",
    "    SQLTableNodeMapping,\n",
    "    ObjectIndex,\n",
    "    SQLTableSchema,\n",
    ")\n",
    "from llama_index.core import SQLDatabase, VectorStoreIndex\n",
    "\n",
    "sql_database = SQLDatabase(engine)\n",
    "table_schema_objs = []\n",
    "table_node_mapping = SQLTableNodeMapping(sql_database)\n",
    "    \n",
    "# table_schema_objs = [\n",
    "#     SQLTableSchema(table_name=t[tindex].table_name, context_str=_get_tableinfo_with_index(tindex).table_summary)\n",
    "#     for tindex, t in table_infos\n",
    "# ]  # add a SQLTableSchema for each table\n",
    "\n",
    "for idx in range(len(table_infos)):\n",
    "   table_data = _get_tableinfo_with_index(idx)\n",
    "   table_schema_objs.append(SQLTableSchema(table_name=table_data.table_name, context_str=table_data.table_summary))\n",
    "\n",
    "\n",
    "obj_index = ObjectIndex.from_objects(\n",
    "    table_schema_objs,\n",
    "    table_node_mapping,\n",
    "    VectorStoreIndex,\n",
    ")\n",
    "obj_retriever = obj_index.as_retriever(similarity_top_k=2)"
   ]
  },
  {
   "cell_type": "code",
   "execution_count": 103,
   "metadata": {},
   "outputs": [
    {
     "data": {
      "text/plain": [
       "[SQLTableSchema(table_name='Entity_Legal_Info', context_str='Summary of legal information for various entities including legal names, addresses, registration details, entity status, creation dates, and conformity flags.'),\n",
       " SQLTableSchema(table_name='Relationship_Information', context_str=\"Summary of relationships between nodes with Relationship_StartNode_NodeID and Relationship_EndNode_NodeID, Relationship_RelationshipType, periods, qualifiers, quantifiers, and registration details. Relationship_EndNode_NodeID is the foreign key in the table Relationship_Information. LEI column is the primary key in the table Entity_Legal_Info which is the foreign key Relationship_EndNode_NodeID column in the table Relationship_Information. Relationship_RelationshipType column contains the information about the relation between the given company name. There are 4 type of relations in Relationship_RelationshipType column 'IS_DIRECTLY_CONSOLIDATED_BY', 'IS_ULTIMATELY_CONSOLIDATED_BY', 'IS_FUND-MANAGED_BY' and 'IS_FUND-MANAGER'. Please find the description of all the relations below: 'IS_ULTIMATELY_CONSOLIDATED_BY' - is the ultimate child of given company. 'IS_DIRECTLY_CONSOLIDATED_BY' - is the direct child of given company. 'IS_FUND-MANAGED_BY' - is a relation who is managing the fund of given company. 'IS_FUND-MANAGER' - is a relation who's funds are managed by given company.\")]"
      ]
     },
     "execution_count": 103,
     "metadata": {},
     "output_type": "execute_result"
    }
   ],
   "source": [
    "table_schema_objs"
   ]
  },
  {
   "cell_type": "code",
   "execution_count": 104,
   "metadata": {},
   "outputs": [],
   "source": [
    "from llama_index.core.retrievers import SQLRetriever\n",
    "from typing import List\n",
    "from llama_index.core.query_pipeline import FnComponent\n",
    "\n",
    "sql_retriever = SQLRetriever(sql_database)\n",
    "\n",
    "\n",
    "def get_table_context_str(table_schema_objs: List[SQLTableSchema]):\n",
    "    \"\"\"Get table context string.\"\"\"\n",
    "    context_strs = []\n",
    "    for table_schema_obj in table_schema_objs:\n",
    "        table_info = sql_database.get_single_table_info(\n",
    "            table_schema_obj.table_name\n",
    "        )\n",
    "        if table_schema_obj.context_str:\n",
    "            table_opt_context = \" The table description is: \"\n",
    "            table_opt_context += table_schema_obj.context_str\n",
    "            table_info += table_opt_context\n",
    "\n",
    "        context_strs.append(table_info)\n",
    "    return \"\\n\\n\".join(context_strs)\n",
    "\n",
    "\n",
    "table_parser_component = FnComponent(fn=get_table_context_str)"
   ]
  },
  {
   "cell_type": "code",
   "execution_count": 105,
   "metadata": {},
   "outputs": [
    {
     "name": "stdout",
     "output_type": "stream",
     "text": [
      "Given an input question, first create a syntactically correct {dialect} query to run, then look at the results of the query and return the answer. You can order the results by a relevant column to return the most interesting examples in the database.\n",
      "\n",
      "Never query for all the columns from a specific table, only ask for a few relevant columns given the question.\n",
      "\n",
      "Pay attention to use only the column names that you can see in the schema description. Be careful to not query for columns that do not exist. Pay attention to which column is in which table. Also, qualify column names with the table name when needed. You are required to use the following format, each taking one line:\n",
      "\n",
      "Question: Question here\n",
      "SQLQuery: SQL Query to run\n",
      "SQLResult: Result of the SQLQuery\n",
      "Answer: Final answer here\n",
      "\n",
      "Only use tables listed below.\n",
      "{schema}\n",
      "\n",
      "Question: {query_str}\n",
      "SQLQuery: \n"
     ]
    }
   ],
   "source": [
    "from llama_index.core.prompts.default_prompts import DEFAULT_TEXT_TO_SQL_PROMPT\n",
    "from llama_index.core import PromptTemplate\n",
    "from llama_index.core.llms import ChatResponse\n",
    "\n",
    "\n",
    "def parse_response_to_sql(response: ChatResponse) -> str:\n",
    "    \"\"\"Parse response to SQL.\"\"\"\n",
    "    response = response.message.content\n",
    "    sql_query_start = response.find(\"SQLQuery:\")\n",
    "    if sql_query_start != -1:\n",
    "        response = response[sql_query_start:]\n",
    "        if response.startswith(\"SQLQuery:\"):\n",
    "            response = response[len(\"SQLQuery:\") :]\n",
    "    sql_result_start = response.find(\"SQLResult:\")\n",
    "    if sql_result_start != -1:\n",
    "        response = response[:sql_result_start]\n",
    "    return response.strip().strip(\"```\").strip()\n",
    "\n",
    "\n",
    "sql_parser_component = FnComponent(fn=parse_response_to_sql)\n",
    "\n",
    "text2sql_prompt = DEFAULT_TEXT_TO_SQL_PROMPT.partial_format(\n",
    "    dialect=engine.dialect.name     # sqlite\n",
    ")\n",
    "print(text2sql_prompt.template)"
   ]
  },
  {
   "cell_type": "code",
   "execution_count": 106,
   "metadata": {},
   "outputs": [],
   "source": [
    "response_synthesis_prompt_str = (\n",
    "    \"Given an input question, synthesize a response from the query results.\\n\"\n",
    "    \"Query: {query_str}\\n\"\n",
    "    \"SQL: {sql_query}\\n\"\n",
    "    \"SQL Response: {context_str}\\n\"\n",
    "    \"Response: \"\n",
    ")\n",
    "response_synthesis_prompt = PromptTemplate(\n",
    "    response_synthesis_prompt_str,\n",
    ")"
   ]
  },
  {
   "cell_type": "code",
   "execution_count": 81,
   "metadata": {},
   "outputs": [],
   "source": [
    "llm=OpenAI(model=\"gpt-3.5-turbo\")"
   ]
  },
  {
   "cell_type": "code",
   "execution_count": 50,
   "metadata": {},
   "outputs": [],
   "source": [
    "from llama_index.core.query_pipeline import (\n",
    "    QueryPipeline as QP,\n",
    "    Link,\n",
    "    InputComponent,\n",
    "    CustomQueryComponent,\n",
    ")\n",
    "\n",
    "qp = QP(\n",
    "    modules={\n",
    "        \"input\": InputComponent(),\n",
    "        \"table_retriever\": obj_retriever,\n",
    "        \"table_output_parser\": table_parser_component,\n",
    "        \"text2sql_prompt\": text2sql_prompt,\n",
    "        \"text2sql_llm\": llm,\n",
    "        \"sql_output_parser\": sql_parser_component,\n",
    "        \"sql_retriever\": sql_retriever,\n",
    "        \"response_synthesis_prompt\": response_synthesis_prompt,\n",
    "        \"response_synthesis_llm\": llm,\n",
    "    },\n",
    "    verbose=True,\n",
    ")"
   ]
  },
  {
   "cell_type": "code",
   "execution_count": 51,
   "metadata": {},
   "outputs": [],
   "source": [
    "qp.add_chain([\"input\", \"table_retriever\", \"table_output_parser\"])\n",
    "qp.add_link(\"input\", \"text2sql_prompt\", dest_key=\"query_str\")\n",
    "qp.add_link(\"table_output_parser\", \"text2sql_prompt\", dest_key=\"schema\")\n",
    "qp.add_chain(\n",
    "    [\"text2sql_prompt\", \"text2sql_llm\", \"sql_output_parser\", \"sql_retriever\"]\n",
    ")\n",
    "qp.add_link(\n",
    "    \"sql_output_parser\", \"response_synthesis_prompt\", dest_key=\"sql_query\"\n",
    ")\n",
    "qp.add_link(\n",
    "    \"sql_retriever\", \"response_synthesis_prompt\", dest_key=\"context_str\"\n",
    ")\n",
    "qp.add_link(\"input\", \"response_synthesis_prompt\", dest_key=\"query_str\")\n",
    "qp.add_link(\"response_synthesis_prompt\", \"response_synthesis_llm\")"
   ]
  },
  {
   "cell_type": "code",
   "execution_count": 107,
   "metadata": {},
   "outputs": [
    {
     "name": "stdout",
     "output_type": "stream",
     "text": [
      "Indexing rows in table: Entity_Legal_Info\n",
      "Indexing rows in table: Relationship_Information\n"
     ]
    }
   ],
   "source": [
    "from llama_index.core import VectorStoreIndex, load_index_from_storage\n",
    "from sqlalchemy import text\n",
    "from llama_index.core.schema import TextNode\n",
    "from llama_index.core import StorageContext\n",
    "import os\n",
    "from pathlib import Path\n",
    "from typing import Dict\n",
    "\n",
    "\n",
    "def index_all_tables(\n",
    "    sql_database: SQLDatabase, table_index_dir: str = \"table_index_dir\"\n",
    ") -> Dict[str, VectorStoreIndex]:\n",
    "    \"\"\"Index all tables.\"\"\"\n",
    "    if not Path(table_index_dir).exists():\n",
    "        os.makedirs(table_index_dir)\n",
    "\n",
    "    vector_index_dict = {}\n",
    "    engine = sql_database.engine\n",
    "    for table_name in sql_database.get_usable_table_names():\n",
    "        print(f\"Indexing rows in table: {table_name}\")\n",
    "        if not os.path.exists(f\"{table_index_dir}/{table_name}\"):\n",
    "            # get all rows from table\n",
    "            with engine.connect() as conn:\n",
    "                cursor = conn.execute(text(f'SELECT * FROM \"{table_name}\"'))\n",
    "                result = cursor.fetchall()\n",
    "                row_tups = []\n",
    "                for row in result:\n",
    "                    row_tups.append(tuple(row))\n",
    "\n",
    "            # index each row, put into vector store index\n",
    "            nodes = [TextNode(text=str(t)) for t in row_tups]\n",
    "\n",
    "            # put into vector store index (use OpenAIEmbeddings by default)\n",
    "            index = VectorStoreIndex(nodes)\n",
    "\n",
    "            # save index\n",
    "            index.set_index_id(\"vector_index\")\n",
    "            index.storage_context.persist(f\"{table_index_dir}/{table_name}\")\n",
    "        else:\n",
    "            # rebuild storage context\n",
    "            storage_context = StorageContext.from_defaults(\n",
    "                persist_dir=f\"{table_index_dir}/{table_name}\"\n",
    "            )\n",
    "            # load index\n",
    "            index = load_index_from_storage(\n",
    "                storage_context, index_id=\"vector_index\"\n",
    "            )\n",
    "        vector_index_dict[table_name] = index\n",
    "\n",
    "    return vector_index_dict\n",
    "\n",
    "\n",
    "vector_index_dict = index_all_tables(sql_database)"
   ]
  },
  {
   "cell_type": "code",
   "execution_count": 108,
   "metadata": {},
   "outputs": [],
   "source": [
    "test_retriever = vector_index_dict[\"Entity_Legal_Info\"].as_retriever(\n",
    "    similarity_top_k=1\n",
    ")"
   ]
  },
  {
   "cell_type": "code",
   "execution_count": 109,
   "metadata": {},
   "outputs": [
    {
     "name": "stdout",
     "output_type": "stream",
     "text": [
      "(1518211, '6SHGI4ZSSLCXXQSBB395', 'CITIGROUP INC.', 'en', None, None, None, None, None, None, None, None, None, None, None, None, None, None, None, 'en', 'CORPORATION TRUST CENTER 1209 ORANGE ST', None, 'c/o THE CORPORATION TRUST COMPANY', None, None, None, 'WILMINGTON', 'US-DE', 'US', '19801', 'en', '388 GREENWICH STREET', None, None, None, None, 'NEW YORK', 'US-NY', 'US', '10013', 'RA000602', '2154254', 'US-DE', 'GENERAL', 'XTIQ', None, 'ACTIVE', '1988-03-08T00:00:00+00:00', None, None, None, None, None, None, None, None, None, None, None, None, None, None, None, None, None, '2012-06-06T15:53:00+00:00', '2024-04-21T15:18:19+00:00', 'ISSUED', '2025-05-27T14:10:35+00:00', '529900T8BM49AURSDO55', 'FULLY_CORROBORATED', 'RA000602', '2154254', 'RA000628', 1688862, 'CONFORMING')\n"
     ]
    }
   ],
   "source": [
    "nodes = test_retriever.retrieve(\"City group inc\")\n",
    "print(nodes[0].get_content())"
   ]
  },
  {
   "cell_type": "code",
   "execution_count": 110,
   "metadata": {},
   "outputs": [],
   "source": [
    "from llama_index.core.retrievers import SQLRetriever\n",
    "from typing import List\n",
    "from llama_index.core.query_pipeline import FnComponent\n",
    "\n",
    "sql_retriever = SQLRetriever(sql_database)\n",
    "\n",
    "\n",
    "def get_table_context_and_rows_str(\n",
    "    query_str: str, table_schema_objs: List[SQLTableSchema]\n",
    "):\n",
    "    \"\"\"Get table context string.\"\"\"\n",
    "    context_strs = []\n",
    "    for table_schema_obj in table_schema_objs:\n",
    "        # first append table info + additional context\n",
    "        table_info = sql_database.get_single_table_info(\n",
    "            table_schema_obj.table_name\n",
    "        )\n",
    "        if table_schema_obj.context_str:\n",
    "            table_opt_context = \" The table description is: \"\n",
    "            table_opt_context += table_schema_obj.context_str\n",
    "            table_info += table_opt_context\n",
    "\n",
    "        # also lookup vector index to return relevant table rows\n",
    "        vector_retriever = vector_index_dict[\n",
    "            table_schema_obj.table_name\n",
    "        ].as_retriever(similarity_top_k=2)\n",
    "        relevant_nodes = vector_retriever.retrieve(query_str)\n",
    "        if len(relevant_nodes) > 0:\n",
    "            table_row_context = \"\\nHere are some relevant example rows (values in the same order as columns above)\\n\"\n",
    "            for node in relevant_nodes:\n",
    "                table_row_context += str(node.get_content()) + \"\\n\"\n",
    "            table_info += table_row_context\n",
    "\n",
    "        context_strs.append(table_info)\n",
    "    return \"\\n\\n\".join(context_strs)\n",
    "\n",
    "\n",
    "table_parser_component = FnComponent(fn=get_table_context_and_rows_str)"
   ]
  },
  {
   "cell_type": "code",
   "execution_count": 111,
   "metadata": {},
   "outputs": [],
   "source": [
    "from llama_index.core.query_pipeline import (\n",
    "    QueryPipeline as QP,\n",
    "    Link,\n",
    "    InputComponent,\n",
    "    CustomQueryComponent,\n",
    ")\n",
    "\n",
    "qp = QP(\n",
    "    modules={\n",
    "        \"input\": InputComponent(),\n",
    "        \"table_retriever\": obj_retriever,\n",
    "        \"table_output_parser\": table_parser_component,\n",
    "        \"text2sql_prompt\": text2sql_prompt,\n",
    "        \"text2sql_llm\": llm,\n",
    "        \"sql_output_parser\": sql_parser_component,\n",
    "        \"sql_retriever\": sql_retriever,\n",
    "        \"response_synthesis_prompt\": response_synthesis_prompt,\n",
    "        \"response_synthesis_llm\": llm,\n",
    "    },\n",
    "    verbose=True,\n",
    ")"
   ]
  },
  {
   "cell_type": "code",
   "execution_count": 112,
   "metadata": {},
   "outputs": [],
   "source": [
    "qp.add_link(\"input\", \"table_retriever\")\n",
    "qp.add_link(\"input\", \"table_output_parser\", dest_key=\"query_str\")\n",
    "qp.add_link(\n",
    "    \"table_retriever\", \"table_output_parser\", dest_key=\"table_schema_objs\"\n",
    ")\n",
    "qp.add_link(\"input\", \"text2sql_prompt\", dest_key=\"query_str\")\n",
    "qp.add_link(\"table_output_parser\", \"text2sql_prompt\", dest_key=\"schema\")\n",
    "qp.add_chain(\n",
    "    [\"text2sql_prompt\", \"text2sql_llm\", \"sql_output_parser\", \"sql_retriever\"]\n",
    ")\n",
    "qp.add_link(\n",
    "    \"sql_output_parser\", \"response_synthesis_prompt\", dest_key=\"sql_query\"\n",
    ")\n",
    "qp.add_link(\n",
    "    \"sql_retriever\", \"response_synthesis_prompt\", dest_key=\"context_str\"\n",
    ")\n",
    "qp.add_link(\"input\", \"response_synthesis_prompt\", dest_key=\"query_str\")\n",
    "qp.add_link(\"response_synthesis_prompt\", \"response_synthesis_llm\")"
   ]
  },
  {
   "cell_type": "code",
   "execution_count": 36,
   "metadata": {},
   "outputs": [
    {
     "name": "stdout",
     "output_type": "stream",
     "text": [
      "\u001b[1;3;38;2;155;135;227m> Running module input with input: \n",
      "query: What is the LEI for CITYGROUP?\n",
      "\n",
      "\u001b[0m\u001b[1;3;38;2;155;135;227m> Running module table_retriever with input: \n",
      "input: What is the LEI for CITYGROUP?\n",
      "\n",
      "\u001b[0m\u001b[1;3;38;2;155;135;227m> Running module table_output_parser with input: \n",
      "query_str: What is the LEI for CITYGROUP?\n",
      "table_schema_objs: [SQLTableSchema(table_name='Entity_Legal_Info', context_str='Summary of legal information for various entities including legal names, addresses, registration details, entity status, creation dates, an...\n",
      "\n",
      "\u001b[0m\u001b[1;3;38;2;155;135;227m> Running module text2sql_prompt with input: \n",
      "query_str: What is the LEI for CITYGROUP?\n",
      "schema: Table 'Entity_Legal_Info' has columns: Unnamed_0 (INTEGER), LEI (VARCHAR), Entity_LegalName (VARCHAR), Entity_LegalName_xmllang (VARCHAR), Entity_OtherEntityNames_OtherEntityName_1 (VARCHAR), Entity_O...\n",
      "\n",
      "\u001b[0m\u001b[1;3;38;2;155;135;227m> Running module text2sql_llm with input: \n",
      "messages: Given an input question, first create a syntactically correct sqlite query to run, then look at the results of the query and return the answer. You can order the results by a relevant column to return...\n",
      "\n",
      "\u001b[0m\u001b[1;3;38;2;155;135;227m> Running module sql_output_parser with input: \n",
      "response: assistant: SELECT LEI\n",
      "FROM Entity_Legal_Info\n",
      "WHERE Entity_LegalName = 'CITIGROUP INC.'\n",
      "SQLResult: 6SHGI4ZSSLCXXQSBB395\n",
      "Answer: The LEI for CITIGROUP is 6SHGI4ZSSLCXXQSBB395.\n",
      "\n",
      "\u001b[0m\u001b[1;3;38;2;155;135;227m> Running module sql_retriever with input: \n",
      "input: SELECT LEI\n",
      "FROM Entity_Legal_Info\n",
      "WHERE Entity_LegalName = 'CITIGROUP INC.'\n",
      "\n",
      "\u001b[0m\u001b[1;3;38;2;155;135;227m> Running module response_synthesis_prompt with input: \n",
      "query_str: What is the LEI for CITYGROUP?\n",
      "sql_query: SELECT LEI\n",
      "FROM Entity_Legal_Info\n",
      "WHERE Entity_LegalName = 'CITIGROUP INC.'\n",
      "context_str: [NodeWithScore(node=TextNode(id_='a5c26cad-82f5-438d-8551-716c3c2b488e', embedding=None, metadata={}, excluded_embed_metadata_keys=[], excluded_llm_metadata_keys=[], relationships={}, text=\"[('6SHGI4Z...\n",
      "\n",
      "\u001b[0m\u001b[1;3;38;2;155;135;227m> Running module response_synthesis_llm with input: \n",
      "messages: Given an input question, synthesize a response from the query results.\n",
      "Query: What is the LEI for CITYGROUP?\n",
      "SQL: SELECT LEI\n",
      "FROM Entity_Legal_Info\n",
      "WHERE Entity_LegalName = 'CITIGROUP INC.'\n",
      "SQL Respon...\n",
      "\n",
      "\u001b[0massistant: The LEI for CITIGROUP INC. is 6SHGI4ZSSLCXXQSBB395.\n"
     ]
    }
   ],
   "source": [
    "response = qp.run(\n",
    "    query=\"What is the LEI for CITYGROUP?\"\n",
    ")\n",
    "print(str(response))"
   ]
  },
  {
   "cell_type": "code",
   "execution_count": 127,
   "metadata": {},
   "outputs": [
    {
     "name": "stdout",
     "output_type": "stream",
     "text": [
      "\u001b[1;3;38;2;155;135;227m> Running module input with input: \n",
      "query: How many relation are direct child of CITIGROUP INC?\n",
      "\n",
      "\u001b[0m\u001b[1;3;38;2;155;135;227m> Running module table_retriever with input: \n",
      "input: How many relation are direct child of CITIGROUP INC?\n",
      "\n",
      "\u001b[0m\u001b[1;3;38;2;155;135;227m> Running module table_output_parser with input: \n",
      "query_str: How many relation are direct child of CITIGROUP INC?\n",
      "table_schema_objs: [SQLTableSchema(table_name='Relationship_Information', context_str=\"Summary of relationships between nodes with Relationship_StartNode_NodeID and Relationship_EndNode_NodeID, Relationship_Relationship...\n",
      "\n",
      "\u001b[0m\u001b[1;3;38;2;155;135;227m> Running module text2sql_prompt with input: \n",
      "query_str: How many relation are direct child of CITIGROUP INC?\n",
      "schema: Table 'Relationship_Information' has columns: Unnamed_0 (INTEGER), Relationship_StartNode_NodeID (VARCHAR), Relationship_StartNode_NodeIDType (VARCHAR), Relationship_EndNode_NodeID (VARCHAR), Relation...\n",
      "\n",
      "\u001b[0m\u001b[1;3;38;2;155;135;227m> Running module text2sql_llm with input: \n",
      "messages: Given an input question, first create a syntactically correct sqlite query to run, then look at the results of the query and return the answer. You can order the results by a relevant column to return...\n",
      "\n",
      "\u001b[0m\u001b[1;3;38;2;155;135;227m> Running module sql_output_parser with input: \n",
      "response: assistant: SELECT COUNT(*) \n",
      "FROM Relationship_Information \n",
      "WHERE Relationship_StartNode_NodeID = '6SHGI4ZSSLCXXQSBB395' \n",
      "AND Relationship_RelationshipType = 'IS_DIRECTLY_CONSOLIDATED_BY'\n",
      "SQLResult: 1\n",
      "...\n",
      "\n",
      "\u001b[0m\u001b[1;3;38;2;155;135;227m> Running module sql_retriever with input: \n",
      "input: SELECT COUNT(*) \n",
      "FROM Relationship_Information \n",
      "WHERE Relationship_StartNode_NodeID = '6SHGI4ZSSLCXXQSBB395' \n",
      "AND Relationship_RelationshipType = 'IS_DIRECTLY_CONSOLIDATED_BY'\n",
      "\n",
      "\u001b[0m\u001b[1;3;38;2;155;135;227m> Running module response_synthesis_prompt with input: \n",
      "query_str: How many relation are direct child of CITIGROUP INC?\n",
      "sql_query: SELECT COUNT(*) \n",
      "FROM Relationship_Information \n",
      "WHERE Relationship_StartNode_NodeID = '6SHGI4ZSSLCXXQSBB395' \n",
      "AND Relationship_RelationshipType = 'IS_DIRECTLY_CONSOLIDATED_BY'\n",
      "context_str: [NodeWithScore(node=TextNode(id_='34a39212-7ab7-417b-bb45-eed19e8d26bb', embedding=None, metadata={}, excluded_embed_metadata_keys=[], excluded_llm_metadata_keys=[], relationships={}, text='[(0,)]', s...\n",
      "\n",
      "\u001b[0m\u001b[1;3;38;2;155;135;227m> Running module response_synthesis_llm with input: \n",
      "messages: Given an input question, synthesize a response from the query results.\n",
      "Query: How many relation are direct child of CITIGROUP INC?\n",
      "SQL: SELECT COUNT(*) \n",
      "FROM Relationship_Information \n",
      "WHERE Relationsh...\n",
      "\n",
      "\u001b[0massistant: There are 0 relations that are direct child of CITIGROUP INC.\n"
     ]
    }
   ],
   "source": [
    "response = qp.run(\n",
    "    query=\"How many relation are direct child of CITIGROUP INC?\"\n",
    ")\n",
    "print(str(response))"
   ]
  },
  {
   "cell_type": "code",
   "execution_count": 122,
   "metadata": {},
   "outputs": [
    {
     "name": "stdout",
     "output_type": "stream",
     "text": [
      "\u001b[1;3;38;2;155;135;227m> Running module input with input: \n",
      "query: How many relation are ultimate child of CITIGROUP INC?\n",
      "\n",
      "\u001b[0m\u001b[1;3;38;2;155;135;227m> Running module table_retriever with input: \n",
      "input: How many relation are ultimate child of CITIGROUP INC?\n",
      "\n",
      "\u001b[0m\u001b[1;3;38;2;155;135;227m> Running module table_output_parser with input: \n",
      "query_str: How many relation are ultimate child of CITIGROUP INC?\n",
      "table_schema_objs: [SQLTableSchema(table_name='Relationship_Information', context_str=\"Summary of relationships between nodes with Relationship_StartNode_NodeID and Relationship_EndNode_NodeID, Relationship_Relationship...\n",
      "\n",
      "\u001b[0m\u001b[1;3;38;2;155;135;227m> Running module text2sql_prompt with input: \n",
      "query_str: How many relation are ultimate child of CITIGROUP INC?\n",
      "schema: Table 'Relationship_Information' has columns: Unnamed_0 (INTEGER), Relationship_StartNode_NodeID (VARCHAR), Relationship_StartNode_NodeIDType (VARCHAR), Relationship_EndNode_NodeID (VARCHAR), Relation...\n",
      "\n",
      "\u001b[0m\u001b[1;3;38;2;155;135;227m> Running module text2sql_llm with input: \n",
      "messages: Given an input question, first create a syntactically correct sqlite query to run, then look at the results of the query and return the answer. You can order the results by a relevant column to return...\n",
      "\n",
      "\u001b[0m\u001b[1;3;38;2;155;135;227m> Running module sql_output_parser with input: \n",
      "response: assistant: SELECT COUNT(*) \n",
      "FROM Relationship_Information \n",
      "WHERE Relationship_EndNode_NodeID = '6SHGI4ZSSLCXXQSBB395' \n",
      "AND Relationship_RelationshipType = 'IS_ULTIMATELY_CONSOLIDATED_BY';\n",
      "SQLResult: 2...\n",
      "\n",
      "\u001b[0m\u001b[1;3;38;2;155;135;227m> Running module sql_retriever with input: \n",
      "input: SELECT COUNT(*) \n",
      "FROM Relationship_Information \n",
      "WHERE Relationship_EndNode_NodeID = '6SHGI4ZSSLCXXQSBB395' \n",
      "AND Relationship_RelationshipType = 'IS_ULTIMATELY_CONSOLIDATED_BY';\n",
      "\n",
      "\u001b[0m\u001b[1;3;38;2;155;135;227m> Running module response_synthesis_prompt with input: \n",
      "query_str: How many relation are ultimate child of CITIGROUP INC?\n",
      "sql_query: SELECT COUNT(*) \n",
      "FROM Relationship_Information \n",
      "WHERE Relationship_EndNode_NodeID = '6SHGI4ZSSLCXXQSBB395' \n",
      "AND Relationship_RelationshipType = 'IS_ULTIMATELY_CONSOLIDATED_BY';\n",
      "context_str: [NodeWithScore(node=TextNode(id_='16fa10e6-72e6-4151-bc3e-19d1ce02bbba', embedding=None, metadata={}, excluded_embed_metadata_keys=[], excluded_llm_metadata_keys=[], relationships={}, text='[(782,)]',...\n",
      "\n",
      "\u001b[0m\u001b[1;3;38;2;155;135;227m> Running module response_synthesis_llm with input: \n",
      "messages: Given an input question, synthesize a response from the query results.\n",
      "Query: How many relation are ultimate child of CITIGROUP INC?\n",
      "SQL: SELECT COUNT(*) \n",
      "FROM Relationship_Information \n",
      "WHERE Relation...\n",
      "\n",
      "\u001b[0massistant: There are 782 relationships that are ultimately child of CITIGROUP INC.\n"
     ]
    }
   ],
   "source": [
    "response = qp.run(\n",
    "    query=\"How many relation are ultimate child of CITIGROUP INC?\"\n",
    ")\n",
    "print(str(response))"
   ]
  },
  {
   "cell_type": "code",
   "execution_count": 114,
   "metadata": {},
   "outputs": [
    {
     "name": "stdout",
     "output_type": "stream",
     "text": [
      "\u001b[1;3;38;2;155;135;227m> Running module input with input: \n",
      "query: How many relation are IS_ULTIMATELY_CONSOLIDATED_BY with CITIGROUP INC?\n",
      "\n",
      "\u001b[0m\u001b[1;3;38;2;155;135;227m> Running module table_retriever with input: \n",
      "input: How many relation are IS_ULTIMATELY_CONSOLIDATED_BY with CITIGROUP INC?\n",
      "\n",
      "\u001b[0m\u001b[1;3;38;2;155;135;227m> Running module table_output_parser with input: \n",
      "query_str: How many relation are IS_ULTIMATELY_CONSOLIDATED_BY with CITIGROUP INC?\n",
      "table_schema_objs: [SQLTableSchema(table_name='Relationship_Information', context_str=\"Summary of relationships between nodes with Relationship_StartNode_NodeID and Relationship_EndNode_NodeID, Relationship_Relationship...\n",
      "\n",
      "\u001b[0m\u001b[1;3;38;2;155;135;227m> Running module text2sql_prompt with input: \n",
      "query_str: How many relation are IS_ULTIMATELY_CONSOLIDATED_BY with CITIGROUP INC?\n",
      "schema: Table 'Relationship_Information' has columns: Unnamed_0 (INTEGER), Relationship_StartNode_NodeID (VARCHAR), Relationship_StartNode_NodeIDType (VARCHAR), Relationship_EndNode_NodeID (VARCHAR), Relation...\n",
      "\n",
      "\u001b[0m\u001b[1;3;38;2;155;135;227m> Running module text2sql_llm with input: \n",
      "messages: Given an input question, first create a syntactically correct sqlite query to run, then look at the results of the query and return the answer. You can order the results by a relevant column to return...\n",
      "\n",
      "\u001b[0m\u001b[1;3;38;2;155;135;227m> Running module sql_output_parser with input: \n",
      "response: assistant: SELECT COUNT(*) \n",
      "FROM Relationship_Information \n",
      "WHERE Relationship_RelationshipType = 'IS_ULTIMATELY_CONSOLIDATED_BY' \n",
      "AND Relationship_EndNode_NodeID = '6SHGI4ZSSLCXXQSBB395';\n",
      "SQLResult: 2...\n",
      "\n",
      "\u001b[0m\u001b[1;3;38;2;155;135;227m> Running module sql_retriever with input: \n",
      "input: SELECT COUNT(*) \n",
      "FROM Relationship_Information \n",
      "WHERE Relationship_RelationshipType = 'IS_ULTIMATELY_CONSOLIDATED_BY' \n",
      "AND Relationship_EndNode_NodeID = '6SHGI4ZSSLCXXQSBB395';\n",
      "\n",
      "\u001b[0m\u001b[1;3;38;2;155;135;227m> Running module response_synthesis_prompt with input: \n",
      "query_str: How many relation are IS_ULTIMATELY_CONSOLIDATED_BY with CITIGROUP INC?\n",
      "sql_query: SELECT COUNT(*) \n",
      "FROM Relationship_Information \n",
      "WHERE Relationship_RelationshipType = 'IS_ULTIMATELY_CONSOLIDATED_BY' \n",
      "AND Relationship_EndNode_NodeID = '6SHGI4ZSSLCXXQSBB395';\n",
      "context_str: [NodeWithScore(node=TextNode(id_='a120c394-37ce-439a-a571-3830d9635abd', embedding=None, metadata={}, excluded_embed_metadata_keys=[], excluded_llm_metadata_keys=[], relationships={}, text='[(782,)]',...\n",
      "\n",
      "\u001b[0m\u001b[1;3;38;2;155;135;227m> Running module response_synthesis_llm with input: \n",
      "messages: Given an input question, synthesize a response from the query results.\n",
      "Query: How many relation are IS_ULTIMATELY_CONSOLIDATED_BY with CITIGROUP INC?\n",
      "SQL: SELECT COUNT(*) \n",
      "FROM Relationship_Informatio...\n",
      "\n",
      "\u001b[0massistant: There are 782 relationships where CITIGROUP INC is ultimately consolidated by another entity.\n"
     ]
    }
   ],
   "source": [
    "response = qp.run(\n",
    "    query=\"How many relation are IS_ULTIMATELY_CONSOLIDATED_BY with CITIGROUP INC?\"\n",
    ")\n",
    "print(str(response))"
   ]
  },
  {
   "cell_type": "code",
   "execution_count": 126,
   "metadata": {},
   "outputs": [
    {
     "name": "stdout",
     "output_type": "stream",
     "text": [
      "\u001b[1;3;38;2;155;135;227m> Running module input with input: \n",
      "query: how many relations are managing fund for CITIGROUP INC?\n",
      "\n",
      "\u001b[0m\u001b[1;3;38;2;155;135;227m> Running module table_retriever with input: \n",
      "input: how many relations are managing fund for CITIGROUP INC?\n",
      "\n",
      "\u001b[0m\u001b[1;3;38;2;155;135;227m> Running module table_output_parser with input: \n",
      "query_str: how many relations are managing fund for CITIGROUP INC?\n",
      "table_schema_objs: [SQLTableSchema(table_name='Relationship_Information', context_str=\"Summary of relationships between nodes with Relationship_StartNode_NodeID and Relationship_EndNode_NodeID, Relationship_Relationship...\n",
      "\n",
      "\u001b[0m\u001b[1;3;38;2;155;135;227m> Running module text2sql_prompt with input: \n",
      "query_str: how many relations are managing fund for CITIGROUP INC?\n",
      "schema: Table 'Relationship_Information' has columns: Unnamed_0 (INTEGER), Relationship_StartNode_NodeID (VARCHAR), Relationship_StartNode_NodeIDType (VARCHAR), Relationship_EndNode_NodeID (VARCHAR), Relation...\n",
      "\n",
      "\u001b[0m\u001b[1;3;38;2;155;135;227m> Running module text2sql_llm with input: \n",
      "messages: Given an input question, first create a syntactically correct sqlite query to run, then look at the results of the query and return the answer. You can order the results by a relevant column to return...\n",
      "\n",
      "\u001b[0m\u001b[1;3;38;2;155;135;227m> Running module sql_output_parser with input: \n",
      "response: assistant: SELECT COUNT(*) \n",
      "FROM Relationship_Information \n",
      "WHERE Relationship_EndNode_NodeID = '5493001KJTIIGC8Y1R12' \n",
      "AND Relationship_RelationshipType = 'IS_FUND-MANAGED_BY';\n",
      "SQLResult: 2\n",
      "Answer: Th...\n",
      "\n",
      "\u001b[0m\u001b[1;3;38;2;155;135;227m> Running module sql_retriever with input: \n",
      "input: SELECT COUNT(*) \n",
      "FROM Relationship_Information \n",
      "WHERE Relationship_EndNode_NodeID = '5493001KJTIIGC8Y1R12' \n",
      "AND Relationship_RelationshipType = 'IS_FUND-MANAGED_BY';\n",
      "\n",
      "\u001b[0m\u001b[1;3;38;2;155;135;227m> Running module response_synthesis_prompt with input: \n",
      "query_str: how many relations are managing fund for CITIGROUP INC?\n",
      "sql_query: SELECT COUNT(*) \n",
      "FROM Relationship_Information \n",
      "WHERE Relationship_EndNode_NodeID = '5493001KJTIIGC8Y1R12' \n",
      "AND Relationship_RelationshipType = 'IS_FUND-MANAGED_BY';\n",
      "context_str: [NodeWithScore(node=TextNode(id_='c883003c-217f-4fbe-a889-23b5ee23deed', embedding=None, metadata={}, excluded_embed_metadata_keys=[], excluded_llm_metadata_keys=[], relationships={}, text='[(0,)]', s...\n",
      "\n",
      "\u001b[0m\u001b[1;3;38;2;155;135;227m> Running module response_synthesis_llm with input: \n",
      "messages: Given an input question, synthesize a response from the query results.\n",
      "Query: how many relations are managing fund for CITIGROUP INC?\n",
      "SQL: SELECT COUNT(*) \n",
      "FROM Relationship_Information \n",
      "WHERE Relatio...\n",
      "\n",
      "\u001b[0massistant: There are currently 0 relations managing funds for CITIGROUP INC.\n"
     ]
    }
   ],
   "source": [
    "response = qp.run(\n",
    "    query=\"how many relations are managing fund for CITIGROUP INC?\"\n",
    ")\n",
    "print(str(response))"
   ]
  },
  {
   "cell_type": "code",
   "execution_count": 90,
   "metadata": {},
   "outputs": [
    {
     "name": "stdout",
     "output_type": "stream",
     "text": [
      "\u001b[1;3;38;2;155;135;227m> Running module input with input: \n",
      "query: LEI column in Entity_Legal_Info table is associated with which foreign key in relationship_information table\n",
      "\n",
      "\u001b[0m\u001b[1;3;38;2;155;135;227m> Running module table_retriever with input: \n",
      "input: LEI column in Entity_Legal_Info table is associated with which foreign key in relationship_information table\n",
      "\n",
      "\u001b[0m\u001b[1;3;38;2;155;135;227m> Running module table_output_parser with input: \n",
      "query_str: LEI column in Entity_Legal_Info table is associated with which foreign key in relationship_information table\n",
      "table_schema_objs: [SQLTableSchema(table_name='Relationship_Information', context_str=\"Summary of relationships between nodes with Relationship_StartNode_NodeID and Relationship_EndNode_NodeID, Relationship_Relationship...\n",
      "\n",
      "\u001b[0m\u001b[1;3;38;2;155;135;227m> Running module text2sql_prompt with input: \n",
      "query_str: LEI column in Entity_Legal_Info table is associated with which foreign key in relationship_information table\n",
      "schema: Table 'Relationship_Information' has columns: Unnamed_0 (INTEGER), Relationship_StartNode_NodeID (VARCHAR), Relationship_StartNode_NodeIDType (VARCHAR), Relationship_EndNode_NodeID (VARCHAR), Relation...\n",
      "\n",
      "\u001b[0m\u001b[1;3;38;2;155;135;227m> Running module text2sql_llm with input: \n",
      "messages: Given an input question, first create a syntactically correct sqlite query to run, then look at the results of the query and return the answer. You can order the results by a relevant column to return...\n",
      "\n",
      "\u001b[0m\u001b[1;3;38;2;155;135;227m> Running module sql_output_parser with input: \n",
      "response: assistant: SELECT Entity_Legal_Info.LEI, Relationship_Information.Relationship_EndNode_NodeID\n",
      "FROM Entity_Legal_Info\n",
      "JOIN Relationship_Information ON Entity_Legal_Info.LEI = Relationship_Information.R...\n",
      "\n",
      "\u001b[0m\u001b[1;3;38;2;155;135;227m> Running module sql_retriever with input: \n",
      "input: SELECT Entity_Legal_Info.LEI, Relationship_Information.Relationship_EndNode_NodeID\n",
      "FROM Entity_Legal_Info\n",
      "JOIN Relationship_Information ON Entity_Legal_Info.LEI = Relationship_Information.Relationship...\n",
      "\n",
      "\u001b[0m\u001b[1;3;38;2;155;135;227m> Running module response_synthesis_prompt with input: \n",
      "query_str: LEI column in Entity_Legal_Info table is associated with which foreign key in relationship_information table\n",
      "sql_query: SELECT Entity_Legal_Info.LEI, Relationship_Information.Relationship_EndNode_NodeID\n",
      "FROM Entity_Legal_Info\n",
      "JOIN Relationship_Information ON Entity_Legal_Info.LEI = Relationship_Information.Relationship...\n",
      "context_str: [NodeWithScore(node=TextNode(id_='aab86db2-4011-49ce-8f7c-7d6067721267', embedding=None, metadata={}, excluded_embed_metadata_keys=[], excluded_llm_metadata_keys=[], relationships={}, text=\"[('6SHGI4Z...\n",
      "\n",
      "\u001b[0m\u001b[1;3;38;2;155;135;227m> Running module response_synthesis_llm with input: \n",
      "messages: Given an input question, synthesize a response from the query results.\n",
      "Query: LEI column in Entity_Legal_Info table is associated with which foreign key in relationship_information table\n",
      "SQL: SELECT E...\n",
      "\n",
      "\u001b[0massistant: The LEI column in the Entity_Legal_Info table is associated with the Relationship_EndNode_NodeID foreign key in the Relationship_Information table.\n"
     ]
    }
   ],
   "source": [
    "response = qp.run(\n",
    "    query=\"LEI column in Entity_Legal_Info table is associated with which foreign key in relationship_information table\"\n",
    ")\n",
    "print(str(response))"
   ]
  },
  {
   "cell_type": "code",
   "execution_count": 95,
   "metadata": {},
   "outputs": [
    {
     "name": "stdout",
     "output_type": "stream",
     "text": [
      "\u001b[1;3;38;2;155;135;227m> Running module input with input: \n",
      "query: how many records are IS_DIRECTLY_CONSOLIDATED_BY with CityGroup Inc\n",
      "\n",
      "\u001b[0m\u001b[1;3;38;2;155;135;227m> Running module table_retriever with input: \n",
      "input: how many records are IS_DIRECTLY_CONSOLIDATED_BY with CityGroup Inc\n",
      "\n",
      "\u001b[0m\u001b[1;3;38;2;155;135;227m> Running module table_output_parser with input: \n",
      "query_str: how many records are IS_DIRECTLY_CONSOLIDATED_BY with CityGroup Inc\n",
      "table_schema_objs: [SQLTableSchema(table_name='Relationship_Information', context_str=\"Summary of relationships between nodes with Relationship_StartNode_NodeID and Relationship_EndNode_NodeID, Relationship_Relationship...\n",
      "\n",
      "\u001b[0m\u001b[1;3;38;2;155;135;227m> Running module text2sql_prompt with input: \n",
      "query_str: how many records are IS_DIRECTLY_CONSOLIDATED_BY with CityGroup Inc\n",
      "schema: Table 'Relationship_Information' has columns: Unnamed_0 (INTEGER), Relationship_StartNode_NodeID (VARCHAR), Relationship_StartNode_NodeIDType (VARCHAR), Relationship_EndNode_NodeID (VARCHAR), Relation...\n",
      "\n",
      "\u001b[0m\u001b[1;3;38;2;155;135;227m> Running module text2sql_llm with input: \n",
      "messages: Given an input question, first create a syntactically correct sqlite query to run, then look at the results of the query and return the answer. You can order the results by a relevant column to return...\n",
      "\n",
      "\u001b[0m\u001b[1;3;38;2;155;135;227m> Running module sql_output_parser with input: \n",
      "response: assistant: SELECT COUNT(*) \n",
      "FROM Relationship_Information \n",
      "WHERE Relationship_RelationshipType = 'IS_DIRECTLY_CONSOLIDATED_BY' \n",
      "AND Relationship_EndNode_NodeID = '6SHGI4ZSSLCXXQSBB395';\n",
      "SQLResult: 2\n",
      "A...\n",
      "\n",
      "\u001b[0m\u001b[1;3;38;2;155;135;227m> Running module sql_retriever with input: \n",
      "input: SELECT COUNT(*) \n",
      "FROM Relationship_Information \n",
      "WHERE Relationship_RelationshipType = 'IS_DIRECTLY_CONSOLIDATED_BY' \n",
      "AND Relationship_EndNode_NodeID = '6SHGI4ZSSLCXXQSBB395';\n",
      "\n",
      "\u001b[0m\u001b[1;3;38;2;155;135;227m> Running module response_synthesis_prompt with input: \n",
      "query_str: how many records are IS_DIRECTLY_CONSOLIDATED_BY with CityGroup Inc\n",
      "sql_query: SELECT COUNT(*) \n",
      "FROM Relationship_Information \n",
      "WHERE Relationship_RelationshipType = 'IS_DIRECTLY_CONSOLIDATED_BY' \n",
      "AND Relationship_EndNode_NodeID = '6SHGI4ZSSLCXXQSBB395';\n",
      "context_str: [NodeWithScore(node=TextNode(id_='34dd57bf-6d35-4cda-a007-93b3c8aa6409', embedding=None, metadata={}, excluded_embed_metadata_keys=[], excluded_llm_metadata_keys=[], relationships={}, text='[(14,)]', ...\n",
      "\n",
      "\u001b[0m\u001b[1;3;38;2;155;135;227m> Running module response_synthesis_llm with input: \n",
      "messages: Given an input question, synthesize a response from the query results.\n",
      "Query: how many records are IS_DIRECTLY_CONSOLIDATED_BY with CityGroup Inc\n",
      "SQL: SELECT COUNT(*) \n",
      "FROM Relationship_Information \n",
      "W...\n",
      "\n",
      "\u001b[0massistant: There are 14 records where CityGroup Inc is directly consolidated by another entity.\n"
     ]
    }
   ],
   "source": [
    "response = qp.run(\n",
    "    query=\"how many records are IS_DIRECTLY_CONSOLIDATED_BY with CityGroup Inc\"\n",
    ")\n",
    "print(str(response))"
   ]
  },
  {
   "cell_type": "code",
   "execution_count": 73,
   "metadata": {},
   "outputs": [
    {
     "name": "stdout",
     "output_type": "stream",
     "text": [
      "\u001b[1;3;38;2;155;135;227m> Running module input with input: \n",
      "query: how many RelationshipType in Relationship Information Table are direct children of CityGroup Inc\n",
      "\n",
      "\u001b[0m\u001b[1;3;38;2;155;135;227m> Running module table_retriever with input: \n",
      "input: how many RelationshipType in Relationship Information Table are direct children of CityGroup Inc\n",
      "\n",
      "\u001b[0m\u001b[1;3;38;2;155;135;227m> Running module table_output_parser with input: \n",
      "query_str: how many RelationshipType in Relationship Information Table are direct children of CityGroup Inc\n",
      "table_schema_objs: [SQLTableSchema(table_name='Relationship_Information', context_str=\"Summary of relationships between nodes with Relationship_StartNode_NodeID and Relationship_EndNode_NodeID, Relationship_Relationship...\n",
      "\n",
      "\u001b[0m\u001b[1;3;38;2;155;135;227m> Running module text2sql_prompt with input: \n",
      "query_str: how many RelationshipType in Relationship Information Table are direct children of CityGroup Inc\n",
      "schema: Table 'Relationship_Information' has columns: Unnamed_0 (INTEGER), Relationship_StartNode_NodeID (VARCHAR), Relationship_StartNode_NodeIDType (VARCHAR), Relationship_EndNode_NodeID (VARCHAR), Relation...\n",
      "\n",
      "\u001b[0m\u001b[1;3;38;2;155;135;227m> Running module text2sql_llm with input: \n",
      "messages: Given an input question, first create a syntactically correct sqlite query to run, then look at the results of the query and return the answer. You can order the results by a relevant column to return...\n",
      "\n",
      "\u001b[0m\u001b[1;3;38;2;155;135;227m> Running module sql_output_parser with input: \n",
      "response: assistant: SELECT COUNT(Relationship_RelationshipType) \n",
      "FROM Relationship_Information \n",
      "WHERE Relationship_StartNode_NodeID = '6SHGI4ZSSLCXXQSBB395' \n",
      "AND Relationship_RelationshipType = 'IS_DIRECTLY_CO...\n",
      "\n",
      "\u001b[0m\u001b[1;3;38;2;155;135;227m> Running module sql_retriever with input: \n",
      "input: SELECT COUNT(Relationship_RelationshipType) \n",
      "FROM Relationship_Information \n",
      "WHERE Relationship_StartNode_NodeID = '6SHGI4ZSSLCXXQSBB395' \n",
      "AND Relationship_RelationshipType = 'IS_DIRECTLY_CONSOLIDATED_...\n",
      "\n",
      "\u001b[0m\u001b[1;3;38;2;155;135;227m> Running module response_synthesis_prompt with input: \n",
      "query_str: how many RelationshipType in Relationship Information Table are direct children of CityGroup Inc\n",
      "sql_query: SELECT COUNT(Relationship_RelationshipType) \n",
      "FROM Relationship_Information \n",
      "WHERE Relationship_StartNode_NodeID = '6SHGI4ZSSLCXXQSBB395' \n",
      "AND Relationship_RelationshipType = 'IS_DIRECTLY_CONSOLIDATED_...\n",
      "context_str: [NodeWithScore(node=TextNode(id_='3a2b5ed7-1d53-4cf7-988b-7d90544d0e51', embedding=None, metadata={}, excluded_embed_metadata_keys=[], excluded_llm_metadata_keys=[], relationships={}, text='[(0,)]', s...\n",
      "\n",
      "\u001b[0m\u001b[1;3;38;2;155;135;227m> Running module response_synthesis_llm with input: \n",
      "messages: Given an input question, synthesize a response from the query results.\n",
      "Query: how many RelationshipType in Relationship Information Table are direct children of CityGroup Inc\n",
      "SQL: SELECT COUNT(Relatio...\n",
      "\n",
      "\u001b[0massistant: There are 0 RelationshipType in the Relationship Information Table that are direct children of CityGroup Inc.\n"
     ]
    }
   ],
   "source": [
    "response = qp.run(\n",
    "    query=\"how many RelationshipType in Relationship Information Table are direct children of CityGroup Inc\"\n",
    ")\n",
    "print(str(response))"
   ]
  },
  {
   "cell_type": "code",
   "execution_count": 96,
   "metadata": {},
   "outputs": [
    {
     "name": "stdout",
     "output_type": "stream",
     "text": [
      "\u001b[1;3;38;2;155;135;227m> Running module input with input: \n",
      "query: how many records are IS_DIRECTLY_CONSOLIDATED_BY with CityGroup Inc\n",
      "\n",
      "\u001b[0m\u001b[1;3;38;2;155;135;227m> Running module table_retriever with input: \n",
      "input: how many records are IS_DIRECTLY_CONSOLIDATED_BY with CityGroup Inc\n",
      "\n",
      "\u001b[0m\u001b[1;3;38;2;155;135;227m> Running module table_output_parser with input: \n",
      "query_str: how many records are IS_DIRECTLY_CONSOLIDATED_BY with CityGroup Inc\n",
      "table_schema_objs: [SQLTableSchema(table_name='Relationship_Information', context_str=\"Summary of relationships between nodes with Relationship_StartNode_NodeID and Relationship_EndNode_NodeID, Relationship_Relationship...\n",
      "\n",
      "\u001b[0m\u001b[1;3;38;2;155;135;227m> Running module text2sql_prompt with input: \n",
      "query_str: how many records are IS_DIRECTLY_CONSOLIDATED_BY with CityGroup Inc\n",
      "schema: Table 'Relationship_Information' has columns: Unnamed_0 (INTEGER), Relationship_StartNode_NodeID (VARCHAR), Relationship_StartNode_NodeIDType (VARCHAR), Relationship_EndNode_NodeID (VARCHAR), Relation...\n",
      "\n",
      "\u001b[0m\u001b[1;3;38;2;155;135;227m> Running module text2sql_llm with input: \n",
      "messages: Given an input question, first create a syntactically correct sqlite query to run, then look at the results of the query and return the answer. You can order the results by a relevant column to return...\n",
      "\n",
      "\u001b[0m\u001b[1;3;38;2;155;135;227m> Running module sql_output_parser with input: \n",
      "response: assistant: SELECT COUNT(*) \n",
      "FROM Relationship_Information \n",
      "WHERE Relationship_RelationshipType = 'IS_DIRECTLY_CONSOLIDATED_BY' \n",
      "AND Relationship_EndNode_NodeID = '6SHGI4ZSSLCXXQSBB395';\n",
      "SQLResult: 2\n",
      "A...\n",
      "\n",
      "\u001b[0m\u001b[1;3;38;2;155;135;227m> Running module sql_retriever with input: \n",
      "input: SELECT COUNT(*) \n",
      "FROM Relationship_Information \n",
      "WHERE Relationship_RelationshipType = 'IS_DIRECTLY_CONSOLIDATED_BY' \n",
      "AND Relationship_EndNode_NodeID = '6SHGI4ZSSLCXXQSBB395';\n",
      "\n",
      "\u001b[0m\u001b[1;3;38;2;155;135;227m> Running module response_synthesis_prompt with input: \n",
      "query_str: how many records are IS_DIRECTLY_CONSOLIDATED_BY with CityGroup Inc\n",
      "sql_query: SELECT COUNT(*) \n",
      "FROM Relationship_Information \n",
      "WHERE Relationship_RelationshipType = 'IS_DIRECTLY_CONSOLIDATED_BY' \n",
      "AND Relationship_EndNode_NodeID = '6SHGI4ZSSLCXXQSBB395';\n",
      "context_str: [NodeWithScore(node=TextNode(id_='79883d65-d2f0-4955-898e-80e2676550f9', embedding=None, metadata={}, excluded_embed_metadata_keys=[], excluded_llm_metadata_keys=[], relationships={}, text='[(14,)]', ...\n",
      "\n",
      "\u001b[0m\u001b[1;3;38;2;155;135;227m> Running module response_synthesis_llm with input: \n",
      "messages: Given an input question, synthesize a response from the query results.\n",
      "Query: how many records are IS_DIRECTLY_CONSOLIDATED_BY with CityGroup Inc\n",
      "SQL: SELECT COUNT(*) \n",
      "FROM Relationship_Information \n",
      "W...\n",
      "\n",
      "\u001b[0massistant: There are 14 records where CityGroup Inc is directly consolidated by another entity.\n"
     ]
    }
   ],
   "source": [
    "response = qp.run(\n",
    "    query=\"how many records are IS_DIRECTLY_CONSOLIDATED_BY with CityGroup Inc\"\n",
    ")\n",
    "print(str(response))"
   ]
  },
  {
   "cell_type": "code",
   "execution_count": 97,
   "metadata": {},
   "outputs": [
    {
     "name": "stdout",
     "output_type": "stream",
     "text": [
      "\u001b[1;3;38;2;155;135;227m> Running module input with input: \n",
      "query: how many records are direct child of CityGroup Inc\n",
      "\n",
      "\u001b[0m\u001b[1;3;38;2;155;135;227m> Running module table_retriever with input: \n",
      "input: how many records are direct child of CityGroup Inc\n",
      "\n",
      "\u001b[0m\u001b[1;3;38;2;155;135;227m> Running module table_output_parser with input: \n",
      "query_str: how many records are direct child of CityGroup Inc\n",
      "table_schema_objs: [SQLTableSchema(table_name='Relationship_Information', context_str=\"Summary of relationships between nodes with Relationship_StartNode_NodeID and Relationship_EndNode_NodeID, Relationship_Relationship...\n",
      "\n",
      "\u001b[0m\u001b[1;3;38;2;155;135;227m> Running module text2sql_prompt with input: \n",
      "query_str: how many records are direct child of CityGroup Inc\n",
      "schema: Table 'Relationship_Information' has columns: Unnamed_0 (INTEGER), Relationship_StartNode_NodeID (VARCHAR), Relationship_StartNode_NodeIDType (VARCHAR), Relationship_EndNode_NodeID (VARCHAR), Relation...\n",
      "\n",
      "\u001b[0m\u001b[1;3;38;2;155;135;227m> Running module text2sql_llm with input: \n",
      "messages: Given an input question, first create a syntactically correct sqlite query to run, then look at the results of the query and return the answer. You can order the results by a relevant column to return...\n",
      "\n",
      "\u001b[0m\u001b[1;3;38;2;155;135;227m> Running module sql_output_parser with input: \n",
      "response: assistant: SELECT COUNT(*) \n",
      "FROM Relationship_Information \n",
      "WHERE Relationship_StartNode_NodeID = '6SHGI4ZSSLCXXQSBB395' \n",
      "AND Relationship_RelationshipType = 'Direct children';\n",
      "SQLResult: 1\n",
      "Answer: The...\n",
      "\n",
      "\u001b[0m\u001b[1;3;38;2;155;135;227m> Running module sql_retriever with input: \n",
      "input: SELECT COUNT(*) \n",
      "FROM Relationship_Information \n",
      "WHERE Relationship_StartNode_NodeID = '6SHGI4ZSSLCXXQSBB395' \n",
      "AND Relationship_RelationshipType = 'Direct children';\n",
      "\n",
      "\u001b[0m\u001b[1;3;38;2;155;135;227m> Running module response_synthesis_prompt with input: \n",
      "query_str: how many records are direct child of CityGroup Inc\n",
      "sql_query: SELECT COUNT(*) \n",
      "FROM Relationship_Information \n",
      "WHERE Relationship_StartNode_NodeID = '6SHGI4ZSSLCXXQSBB395' \n",
      "AND Relationship_RelationshipType = 'Direct children';\n",
      "context_str: [NodeWithScore(node=TextNode(id_='c751101c-b3f2-4d95-8796-17b287b969e4', embedding=None, metadata={}, excluded_embed_metadata_keys=[], excluded_llm_metadata_keys=[], relationships={}, text='[(0,)]', s...\n",
      "\n",
      "\u001b[0m\u001b[1;3;38;2;155;135;227m> Running module response_synthesis_llm with input: \n",
      "messages: Given an input question, synthesize a response from the query results.\n",
      "Query: how many records are direct child of CityGroup Inc\n",
      "SQL: SELECT COUNT(*) \n",
      "FROM Relationship_Information \n",
      "WHERE Relationship...\n",
      "\n",
      "\u001b[0massistant: There are 0 direct children of CityGroup Inc based on the query results.\n"
     ]
    }
   ],
   "source": [
    "response = qp.run(\n",
    "    query=\"how many records are direct child of CityGroup Inc\"\n",
    ")\n",
    "print(str(response))"
   ]
  },
  {
   "cell_type": "code",
   "execution_count": null,
   "metadata": {},
   "outputs": [],
   "source": []
  }
 ],
 "metadata": {
  "kernelspec": {
   "display_name": "venv",
   "language": "python",
   "name": "python3"
  },
  "language_info": {
   "codemirror_mode": {
    "name": "ipython",
    "version": 3
   },
   "file_extension": ".py",
   "mimetype": "text/x-python",
   "name": "python",
   "nbconvert_exporter": "python",
   "pygments_lexer": "ipython3",
   "version": "3.12.3"
  }
 },
 "nbformat": 4,
 "nbformat_minor": 2
}
